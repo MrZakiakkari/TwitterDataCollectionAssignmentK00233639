{
 "cells": [
  {
   "cell_type": "markdown",
   "id": "1f6c70df",
   "metadata": {},
   "source": [
    "# Twitter Data Collection Assignment"
   ]
  },
  {
   "cell_type": "markdown",
   "id": "a3e3e904",
   "metadata": {},
   "source": [
    "## Setup"
   ]
  },
  {
   "cell_type": "markdown",
   "id": "9d312abc",
   "metadata": {},
   "source": [
    "Assessment 1: Collecting Data\n",
    "\n",
    "\n",
    "This assessment is a practical assessment that evaluates your understanding of metrics and value, and your ability to use Python and its libraries to locate and extract data.  In this assessment you will be extracting data using an API.  The API to be used is the Twitter API.    You are to assume the role of a data analyst for a software company that has made a software product, such as Discord, Wordle, or Tinder for example. \n",
    "You will first identify what metric the Twitter stream will be used for, and describe the data.  \n",
    "You will then write a python program that collects data from across multiple twitter accounts (in class we looked at one account that of a named Twitter account, in this example you will have to extend your code to look at the tweet database from a keyword perspective).  The tweets collected should be about one software or consumer product that your company has made.\n",
    "\n",
    "\n",
    "Weighting\n",
    "\n",
    "This assessment is worth 25% of your final grade.\n",
    "\n",
    "Deliverable\n",
    "\n",
    "You are to submit three files:-\n",
    "\n",
    "(1) A word/pdf document answering questions 1, 2 and the screen shot from Q3.\n",
    "\n",
    "(2) a labelled .py python program file, using extensive use of comments.  Clearly indicate where code has been used from other sources.\n",
    "\n",
    "(3) a one page print screen or preview of sample data/output collected in (2) above\n",
    "\n",
    "\n",
    "\n",
    "Question 1\n",
    "\n",
    "What metric would you use this data for?  In your answer name the metric, and explain the value it will bring.\n",
    "\n",
    "Question 2\n",
    "\n",
    "Document the meta-data for this metric, i.e. data source, data type, volume, velocity, variety, ethical or legislative considerations.\n",
    "\n",
    "Question 3\n",
    "\n",
    "You are to write a python program to extract data from Twitter.\n",
    "\n",
    "The key attributes of the tweets (at the time of writing - this may change - check online for up to date attributes or better still check your dataset collected) pulled out are :\n",
    "\n",
    "text: the text of the tweet itself\n",
    "created_at: the date of creation\n",
    "favorite_count, retweet_count: the number of favourites and retweets\n",
    "favorited, retweeted: boolean stating whether the authenticated user (you) have favourited or retweeted this tweet\n",
    "lang: acronym for the language (e.g. “en” for english)\n",
    "id: the tweet identifier\n",
    "place, coordinates, geo: geo-location information if available\n",
    "user: the author’s full profile\n",
    "entities: list of entities like URLs, @-mentions, hashtags and symbols\n",
    "in_reply_to_user_id: user identifier if the tweet is a reply to a specific user\n",
    "in_reply_to_status_id: status identifier id the tweet is a reply to a specific status\n",
    "In this extraction, we are interested in the favorite_count and retweet_count.  Pull off all tweets, sort by favorite_count and retweet_count, and print/output to screen the tweet text and the counts of the top 10 favourited tweets.\n",
    "\n",
    "There is a lot of help online, for example https://fcpython.com/blog/scraping-twitter-tweepy-python. ;\n",
    "\n",
    "Note: it is assumed that you will use code shared openly online, in tutorials and on gitHub.  You may use this code, however at least 25% of the program must be your own code.  Clearly distinguish your code from that found online.  You should properly attribute the copyright to its author.   You must not copy code from your classmates.  You should fully understand all code submitted, and be able to explain each line of code."
   ]
  },
  {
   "cell_type": "code",
   "execution_count": null,
   "id": "944b8604",
   "metadata": {},
   "outputs": [],
   "source": [
    "# Local\n",
    "#!pip install -r requirements.txt\n",
    "# Remote option\n",
    "#!pip install -r https://raw.githubusercontent.com/mrzakiakkari/reposiroty-name/requirements.txt\n",
    "#Options: --quiet --user"
   ]
  },
  {
   "cell_type": "code",
   "execution_count": 1,
   "id": "68bc2608",
   "metadata": {
    "ExecuteTime": {
     "end_time": "2022-03-03T21:54:32.349314Z",
     "start_time": "2022-03-03T21:54:31.888244Z"
    }
   },
   "outputs": [],
   "source": [
    "from configparser import ConfigParser\n",
    "from pandas import DataFrame\n",
    "import csv\n",
    "import pandas\n",
    "import tweepy"
   ]
  },
  {
   "cell_type": "code",
   "execution_count": 2,
   "id": "9961896f",
   "metadata": {
    "ExecuteTime": {
     "end_time": "2022-03-03T21:54:32.365459Z",
     "start_time": "2022-03-03T21:54:32.350311Z"
    }
   },
   "outputs": [],
   "source": [
    "config_filepath = \"config.ini\"\n",
    "config_parser = ConfigParser()"
   ]
  },
  {
   "cell_type": "code",
   "execution_count": 3,
   "id": "3142f424",
   "metadata": {
    "ExecuteTime": {
     "end_time": "2022-03-03T21:54:32.381226Z",
     "start_time": "2022-03-03T21:54:32.368260Z"
    }
   },
   "outputs": [
    {
     "data": {
      "text/plain": [
       "['config.ini']"
      ]
     },
     "execution_count": 3,
     "metadata": {},
     "output_type": "execute_result"
    }
   ],
   "source": [
    "config_parser.read(config_filepath)"
   ]
  },
  {
   "cell_type": "code",
   "execution_count": 4,
   "id": "542853f3",
   "metadata": {
    "ExecuteTime": {
     "end_time": "2022-03-03T21:54:32.397167Z",
     "start_time": "2022-03-03T21:54:32.382224Z"
    }
   },
   "outputs": [],
   "source": [
    "access_token = config_parser[\"Twitter\"][\"AccessToken\"]\n",
    "access_token_secret = config_parser[\"Twitter\"][\"AccessTokenSecret\"]\n",
    "consumer_key = config_parser[\"Twitter\"][\"ApiKey\"]\n",
    "consumer_secret = config_parser[\"Twitter\"][\"ApiKeySecret\"]"
   ]
  },
  {
   "cell_type": "code",
   "execution_count": 5,
   "id": "af757c50",
   "metadata": {
    "ExecuteTime": {
     "end_time": "2022-03-03T21:54:32.412127Z",
     "start_time": "2022-03-03T21:54:32.398164Z"
    }
   },
   "outputs": [],
   "source": [
    "o_auth_handler = tweepy.OAuthHandler(consumer_key, consumer_secret)\n",
    "o_auth_handler.set_access_token(access_token, access_token_secret)\n",
    "tweepy_api = tweepy.API(o_auth_handler, wait_on_rate_limit=True)"
   ]
  },
  {
   "cell_type": "code",
   "execution_count": 6,
   "id": "4c36d21a",
   "metadata": {
    "ExecuteTime": {
     "end_time": "2022-03-03T21:54:32.427664Z",
     "start_time": "2022-03-03T21:54:32.413631Z"
    }
   },
   "outputs": [],
   "source": [
    "screen_name = \"agriculture_ie\""
   ]
  },
  {
   "cell_type": "code",
   "execution_count": 7,
   "id": "226a1f19",
   "metadata": {
    "ExecuteTime": {
     "end_time": "2022-03-03T21:54:32.941410Z",
     "start_time": "2022-03-03T21:54:32.430629Z"
    }
   },
   "outputs": [],
   "source": [
    "tweets = tweepy_api.user_timeline(\n",
    "    screen_name=screen_name,\n",
    "    count=200,  # 200 is the maximum allowed count\n",
    "    include_rts=False,\n",
    "    tweet_mode=\"extended\"\n",
    ")  # Necessary to keep full_text otherwise only the first 140 words are extracted"
   ]
  },
  {
   "cell_type": "code",
   "execution_count": 8,
   "id": "bbf1c26e",
   "metadata": {
    "ExecuteTime": {
     "end_time": "2022-03-03T21:54:32.956336Z",
     "start_time": "2022-03-03T21:54:32.942375Z"
    }
   },
   "outputs": [
    {
     "name": "stdout",
     "output_type": "stream",
     "text": [
      "ID: 1499444505132646405\n",
      "2022-03-03 18:00:03+00:00\n",
      "Reminder\n",
      "\n",
      "Farmers are invited to our first information session on the 2023-2027 CAP Draft Strategic Plan tonight at @mullingarpark, #Westmeath from 8pm-9.30pm to learn about the #NewCAP\n",
      "☎️Our helplines:\n",
      "Direct Payments: (057) 8674422\n",
      "GLAS: (053) 9163425\n",
      "📍https://t.co/KhlCxfHa97\n",
      "\n",
      "\n",
      "ID: 1499429061965271051\n",
      "2022-03-03 16:58:41+00:00\n",
      "The results of the Attitudes to Afforestation in Ireland survey has been announced\n",
      "\n",
      "It found a positive attitude to forestry - 88% of those surveyed said they thought forests and woodlands benefited local communities\n",
      "\n",
      "📍https://t.co/87U2hdhDED https://t.co/4xoVU4iv4Y\n",
      "\n",
      "\n",
      "ID: 1499391968710828033\n",
      "2022-03-03 14:31:17+00:00\n",
      "Minister @McConalogue stressed the need for ongoing EU solidarity in the response to the Russian invasion of Ukraine\n",
      "\n",
      "He also underlined concerns on the impacts of the conflict on agri-food supply chains, especially on inputs such as fertiliser and feed\n",
      "\n",
      "📍https://t.co/9VSnKTFoGH https://t.co/IgSwsiggV9\n",
      "\n",
      "\n"
     ]
    }
   ],
   "source": [
    "for info in tweets[:3]:\n",
    "    print(\"ID: {}\".format(info.id))\n",
    "    print(info.created_at)\n",
    "    print(info.full_text)\n",
    "    print(\"\\n\")"
   ]
  },
  {
   "cell_type": "code",
   "execution_count": 9,
   "id": "a185d7de",
   "metadata": {
    "ExecuteTime": {
     "end_time": "2022-03-03T21:54:42.944103Z",
     "start_time": "2022-03-03T21:54:32.958329Z"
    }
   },
   "outputs": [
    {
     "name": "stdout",
     "output_type": "stream",
     "text": [
      "N of tweets downloaded till now 245\n",
      "N of tweets downloaded till now 372\n",
      "N of tweets downloaded till now 502\n",
      "N of tweets downloaded till now 657\n",
      "N of tweets downloaded till now 797\n",
      "N of tweets downloaded till now 954\n",
      "N of tweets downloaded till now 1111\n",
      "N of tweets downloaded till now 1291\n",
      "N of tweets downloaded till now 1457\n",
      "N of tweets downloaded till now 1607\n",
      "N of tweets downloaded till now 1718\n",
      "N of tweets downloaded till now 1845\n",
      "N of tweets downloaded till now 1954\n",
      "N of tweets downloaded till now 2063\n",
      "N of tweets downloaded till now 2185\n",
      "N of tweets downloaded till now 2222\n"
     ]
    }
   ],
   "source": [
    "all_tweets = []\n",
    "all_tweets.extend(tweets)\n",
    "oldest_id = tweets[-1].id\n",
    "while True:\n",
    "    tweets = tweepy_api.user_timeline(\n",
    "        screen_name=screen_name,\n",
    "        count=200,# 200 is the maximum allowed count\n",
    "        include_rts=False,\n",
    "        max_id=oldest_id - 1,\n",
    "        # Necessary to keep full_text\n",
    "        # otherwise only the first 140 words are extracted\n",
    "        tweet_mode='extended')\n",
    "    if len(tweets) == 0:\n",
    "        break\n",
    "    oldest_id = tweets[-1].id\n",
    "    all_tweets.extend(tweets)\n",
    "    print('N of tweets downloaded till now {}'.format(len(all_tweets)))"
   ]
  },
  {
   "cell_type": "code",
   "execution_count": 10,
   "id": "8b911e27",
   "metadata": {
    "ExecuteTime": {
     "end_time": "2022-03-03T22:11:58.898071Z",
     "start_time": "2022-03-03T22:11:58.872141Z"
    }
   },
   "outputs": [],
   "source": [
    "tweets_list: list = [[\n",
    "    tweet.id_str, tweet.user.screen_name, tweet.created_at,\n",
    "    tweet.favorite_count, tweet.retweet_count,\n",
    "    tweet.full_text.encode(\"utf-8\").decode(\"utf-8\")\n",
    "] for idx, tweet in enumerate(all_tweets)]"
   ]
  },
  {
   "cell_type": "code",
   "execution_count": 13,
   "id": "bfda5840",
   "metadata": {
    "ExecuteTime": {
     "end_time": "2022-03-03T22:12:40.939183Z",
     "start_time": "2022-03-03T22:12:40.777800Z"
    }
   },
   "outputs": [
    {
     "data": {
      "text/html": [
       "<div>\n",
       "<style scoped>\n",
       "    .dataframe tbody tr th:only-of-type {\n",
       "        vertical-align: middle;\n",
       "    }\n",
       "\n",
       "    .dataframe tbody tr th {\n",
       "        vertical-align: top;\n",
       "    }\n",
       "\n",
       "    .dataframe thead th {\n",
       "        text-align: right;\n",
       "    }\n",
       "</style>\n",
       "<table border=\"1\" class=\"dataframe\">\n",
       "  <thead>\n",
       "    <tr style=\"text-align: right;\">\n",
       "      <th></th>\n",
       "      <th>id</th>\n",
       "      <th>screen_name</th>\n",
       "      <th>created_at</th>\n",
       "      <th>favorite_count</th>\n",
       "      <th>retweet_count</th>\n",
       "      <th>text</th>\n",
       "    </tr>\n",
       "  </thead>\n",
       "  <tbody>\n",
       "    <tr>\n",
       "      <th>0</th>\n",
       "      <td>1499444505132646405</td>\n",
       "      <td>agriculture_ie</td>\n",
       "      <td>2022-03-03 18:00:03+00:00</td>\n",
       "      <td>0</td>\n",
       "      <td>0</td>\n",
       "      <td>Reminder\\n\\nFarmers are invited to our first i...</td>\n",
       "    </tr>\n",
       "    <tr>\n",
       "      <th>1</th>\n",
       "      <td>1499429061965271051</td>\n",
       "      <td>agriculture_ie</td>\n",
       "      <td>2022-03-03 16:58:41+00:00</td>\n",
       "      <td>1</td>\n",
       "      <td>0</td>\n",
       "      <td>The results of the Attitudes to Afforestation ...</td>\n",
       "    </tr>\n",
       "    <tr>\n",
       "      <th>2</th>\n",
       "      <td>1499391968710828033</td>\n",
       "      <td>agriculture_ie</td>\n",
       "      <td>2022-03-03 14:31:17+00:00</td>\n",
       "      <td>0</td>\n",
       "      <td>0</td>\n",
       "      <td>Minister @McConalogue stressed the need for on...</td>\n",
       "    </tr>\n",
       "  </tbody>\n",
       "</table>\n",
       "</div>"
      ],
      "text/plain": [
       "                    id     screen_name                created_at  \\\n",
       "0  1499444505132646405  agriculture_ie 2022-03-03 18:00:03+00:00   \n",
       "1  1499429061965271051  agriculture_ie 2022-03-03 16:58:41+00:00   \n",
       "2  1499391968710828033  agriculture_ie 2022-03-03 14:31:17+00:00   \n",
       "\n",
       "   favorite_count  retweet_count  \\\n",
       "0               0              0   \n",
       "1               1              0   \n",
       "2               0              0   \n",
       "\n",
       "                                                text  \n",
       "0  Reminder\\n\\nFarmers are invited to our first i...  \n",
       "1  The results of the Attitudes to Afforestation ...  \n",
       "2  Minister @McConalogue stressed the need for on...  "
      ]
     },
     "execution_count": 13,
     "metadata": {},
     "output_type": "execute_result"
    }
   ],
   "source": [
    "tweet_columns = [\n",
    "    \"id\", \"screen_name\", \"created_at\", \"favorite_count\", \"retweet_count\",\n",
    "    \"text\"\n",
    "]\n",
    "dataframe = DataFrame(tweets_list, columns=tweet_columns)\n",
    "dataframe.to_csv('./assets/twitter-agriculture-ie.csv', index=False)\n",
    "dataframe.head(3)"
   ]
  }
 ],
 "metadata": {
  "kernelspec": {
   "display_name": "Python 3 (ipykernel)",
   "language": "python",
   "name": "python3"
  },
  "language_info": {
   "codemirror_mode": {
    "name": "ipython",
    "version": 3
   },
   "file_extension": ".py",
   "mimetype": "text/x-python",
   "name": "python",
   "nbconvert_exporter": "python",
   "pygments_lexer": "ipython3",
   "version": "3.9.7"
  },
  "toc": {
   "base_numbering": 1,
   "nav_menu": {},
   "number_sections": false,
   "sideBar": true,
   "skip_h1_title": false,
   "title_cell": "Table of Contents",
   "title_sidebar": "Contents",
   "toc_cell": false,
   "toc_position": {
    "height": "calc(100% - 180px)",
    "left": "10px",
    "top": "150px",
    "width": "303.837px"
   },
   "toc_section_display": true,
   "toc_window_display": true
  }
 },
 "nbformat": 4,
 "nbformat_minor": 5
}
